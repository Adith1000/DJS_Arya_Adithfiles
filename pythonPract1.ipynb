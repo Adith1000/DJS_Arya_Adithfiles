{
 "cells": [
  {
   "cell_type": "code",
   "execution_count": 17,
   "metadata": {},
   "outputs": [
    {
     "name": "stdout",
     "output_type": "stream",
     "text": [
      "1 2 3\n"
     ]
    }
   ],
   "source": [
    "a, b, c = map(int, input().split())\n",
    "print ( a, b, c)"
   ]
  },
  {
   "cell_type": "code",
   "execution_count": 18,
   "metadata": {},
   "outputs": [
    {
     "name": "stdout",
     "output_type": "stream",
     "text": [
      "world 1 2 3 hello\n"
     ]
    }
   ],
   "source": [
    "str = f'world {a} {b} {c} hello'\n",
    "print(str)"
   ]
  },
  {
   "cell_type": "code",
   "execution_count": 19,
   "metadata": {},
   "outputs": [
    {
     "name": "stdout",
     "output_type": "stream",
     "text": [
      "['world', '1', '2', '3', 'hello']\n",
      "World 1 2 3 hello\n",
      "WORLD 1 2 3 HELLO\n",
      "world 1 2 3 hello\n",
      "World 1 2 3 Hello\n",
      "WORLD 1 2 3 HELLO\n",
      "world 1 2 3 hello\n",
      "-1\n"
     ]
    }
   ],
   "source": [
    "print ( str.split() )\n",
    "print  (str.capitalize() )\n",
    "print (str.upper() )\n",
    "print (str.lower() )\n",
    "print (str.title() )\n",
    "print (str.swapcase() )\n",
    "print (str.replace('bruh', 'hello') )\n",
    "print (str.find('bruh') )"
   ]
  },
  {
   "cell_type": "code",
   "execution_count": 20,
   "metadata": {},
   "outputs": [
    {
     "name": "stdout",
     "output_type": "stream",
     "text": [
      "['a', 'b', 'c']\n",
      "['a', 'b', 'c', 'o']\n",
      "['a', 'l', 'b', 'c', 'o']\n",
      "['a', 'l', 'c', 'o']\n",
      "['a', 'c', 'o']\n",
      "['c', 'o']\n",
      "[]\n"
     ]
    }
   ],
   "source": [
    "alp = ['a', 'b', 'c']\n",
    "print (alp)\n",
    "alp.append('o')\n",
    "print (alp)\n",
    "alp.insert(1, 'l')\n",
    "print (alp)\n",
    "alp.remove('b')\n",
    "print (alp)\n",
    "alp.pop(1)\n",
    "print (alp)\n",
    "del alp[0]\n",
    "print (alp)\n",
    "alp.clear()\n",
    "print (alp)\n"
   ]
  },
  {
   "cell_type": "code",
   "execution_count": 21,
   "metadata": {},
   "outputs": [
    {
     "name": "stdout",
     "output_type": "stream",
     "text": [
      "('apple', 'banana', 'cherry', 'apple', 'cherry', 'cherry')\n",
      "banana\n",
      "cherry\n",
      "('banana', 'cherry')\n",
      "('apple', 'cherry')\n",
      "2\n",
      "3\n"
     ]
    }
   ],
   "source": [
    "#tuple\n",
    "thistuple = (\"apple\", \"banana\", \"cherry\", \"apple\", \"cherry\",\"cherry\")\n",
    "print (thistuple)\n",
    "print (thistuple[1])\n",
    "print (thistuple[-1])\n",
    "print (thistuple[1:3])\n",
    "print (thistuple[-3:-1])\n",
    "print (thistuple.index('cherry'))\n",
    "print (thistuple.count('cherry'))\n"
   ]
  },
  {
   "cell_type": "code",
   "execution_count": 22,
   "metadata": {},
   "outputs": [
    {
     "name": "stdout",
     "output_type": "stream",
     "text": [
      "{'1st': 100, '2nd': 90, '3rd': 60}\n",
      "90\n"
     ]
    }
   ],
   "source": [
    "marks = {'1st': 100, '2nd': 90, '3rd': 60}\n",
    "\n",
    "print (marks)\n",
    "print (marks['2nd'])"
   ]
  },
  {
   "cell_type": "code",
   "execution_count": 23,
   "metadata": {},
   "outputs": [
    {
     "name": "stdout",
     "output_type": "stream",
     "text": [
      "Hello world\n"
     ]
    }
   ],
   "source": [
    "def my_function():\n",
    "    print('Hello world')\n",
    "\n",
    "my_function()"
   ]
  },
  {
   "cell_type": "code",
   "execution_count": 24,
   "metadata": {},
   "outputs": [
    {
     "name": "stdout",
     "output_type": "stream",
     "text": [
      "2024-08-01 00:00:00.984490\n"
     ]
    }
   ],
   "source": [
    "import datetime\n",
    "time = datetime.datetime.now()\n",
    "print(time)\n"
   ]
  },
  {
   "cell_type": "code",
   "execution_count": 25,
   "metadata": {},
   "outputs": [
    {
     "name": "stdout",
     "output_type": "stream",
     "text": [
      "Hello my name is John 36\n"
     ]
    }
   ],
   "source": [
    "class test:\n",
    "    def __init__(self, name, age):\n",
    "        self.name = name\n",
    "        self.age = age\n",
    "\n",
    "    def myfunc(self):\n",
    "        print(f'Hello my name is ' + self.name + f' {self.age}')\n",
    "\n",
    "p1 = test('John', 36)\n",
    "p1.myfunc()\n"
   ]
  },
  {
   "cell_type": "code",
   "execution_count": null,
   "metadata": {},
   "outputs": [],
   "source": []
  }
 ],
 "metadata": {
  "kernelspec": {
   "display_name": "Python 3",
   "language": "python",
   "name": "python3"
  },
  "language_info": {
   "codemirror_mode": {
    "name": "ipython",
    "version": 3
   },
   "file_extension": ".py",
   "mimetype": "text/x-python",
   "name": "python",
   "nbconvert_exporter": "python",
   "pygments_lexer": "ipython3",
   "version": "3.12.4"
  }
 },
 "nbformat": 4,
 "nbformat_minor": 2
}
